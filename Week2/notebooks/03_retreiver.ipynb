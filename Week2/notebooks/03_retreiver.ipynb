{
 "cells": [
  {
   "cell_type": "code",
   "execution_count": null,
   "id": "eb4e5099-27d9-4b4f-b3de-a7690bcc59f7",
   "metadata": {},
   "outputs": [],
   "source": [
    "from langchain_community.vectorstores import Chroma\n",
    "from langchain_core.runnables import RunnablePassthrough\n",
    "from langchain_core.output_parsers import StrOutputParser\n",
    "from langchain_core.prompts import ChatPromptTemplate\n",
    "from langchain_openai import ChatOpenAI, OpenAIEmbeddings\n",
    "\n",
    "import yaml\n",
    "import os\n",
    "\n",
    "from pprint import pprint"
   ]
  },
  {
   "cell_type": "code",
   "execution_count": null,
   "id": "d1c13080-8f9e-4a72-b155-282e8b2fba70",
   "metadata": {},
   "outputs": [],
   "source": [
    "os.environ['OPENAI_API_KEY'] = yaml.safe_load(open('../credentials.yml'))['openai']"
   ]
  },
  {
   "cell_type": "code",
   "execution_count": null,
   "id": "54303f5e-afd2-4d81-a237-89108133328c",
   "metadata": {},
   "outputs": [
    {
     "data": {
      "text/plain": [
       "VectorStoreRetriever(tags=['Chroma', 'OpenAIEmbeddings'], vectorstore=<langchain_community.vectorstores.chroma.Chroma object at 0x7fc48828f040>)"
      ]
     },
     "execution_count": 3,
     "metadata": {},
     "output_type": "execute_result"
    }
   ],
   "source": [
    "embedding_function = OpenAIEmbeddings(\n",
    "    model='text-embedding-ada-002',\n",
    ")\n",
    "\n",
    "vectorstore = Chroma(\n",
    "    persist_directory=\"data/chroma_1.db\",\n",
    "    embedding_function=embedding_function\n",
    ")\n",
    "\n",
    "retriever = vectorstore.as_retriever()\n",
    "\n",
    "retriever"
   ]
  },
  {
   "cell_type": "code",
   "execution_count": null,
   "id": "d3c55035-8e14-4c2b-b908-68d282d6d3c9",
   "metadata": {},
   "outputs": [],
   "source": [
    "template = \"\"\"Answer the question based only on the following context:\n",
    "{context}\n",
    "\n",
    "Question: {question}\n",
    "\"\"\"\n",
    "\n",
    "prompt = ChatPromptTemplate.from_template(template)"
   ]
  },
  {
   "cell_type": "code",
   "execution_count": null,
   "id": "dee83d82-6ad8-431b-bdf5-86a0d9bc4c5e",
   "metadata": {},
   "outputs": [],
   "source": [
    "model = ChatOpenAI(\n",
    "    model = 'gpt-4o-mini',\n",
    "    temperature = 0.7,\n",
    ")"
   ]
  },
  {
   "cell_type": "code",
   "execution_count": null,
   "id": "86e11d41-5c14-4dad-82da-9823fcd0d1e5",
   "metadata": {},
   "outputs": [],
   "source": [
    "rag_chain = (\n",
    "    {\"context\": retriever, \"question\": RunnablePassthrough()}\n",
    "    | prompt\n",
    "    | model\n",
    "    | StrOutputParser()\n",
    ")"
   ]
  },
  {
   "cell_type": "code",
   "execution_count": null,
   "id": "bd217615-8a94-4362-a9d6-389bd75b4db3",
   "metadata": {},
   "outputs": [
    {
     "name": "stdout",
     "output_type": "stream",
     "text": [
      "('A successful social media marketing strategy for Facebook (Meta) involves '\n",
      " 'several key components. Here are the top three elements:\\n'\n",
      " '\\n'\n",
      " '1. **Target Audience Understanding**: \\n'\n",
      " '   - Knowing your audience is crucial for effective engagement. This '\n",
      " 'involves researching demographics, interests, behaviors, and pain points. '\n",
      " \"Facebook's Audience Insights tool can provide valuable data about your \"\n",
      " 'followers and potential customers. Tailoring content to meet the needs and '\n",
      " 'preferences of your audience can significantly enhance engagement and '\n",
      " 'conversion rates. \\n'\n",
      " '\\n'\n",
      " '   **Source**: Facebook Business, \"Target Your Audience\": [Facebook '\n",
      " 'Business](https://www.facebook.com/business/help/164749007013531)\\n'\n",
      " '\\n'\n",
      " '2. **Content Strategy**: \\n'\n",
      " '   - A diverse content strategy that includes a mix of posts—such as images, '\n",
      " 'videos, stories, and live streams—will keep your audience engaged. '\n",
      " 'High-quality visuals and compelling storytelling are essential. Regularly '\n",
      " \"updating content and utilizing Facebook's features, like polls and events, \"\n",
      " \"can also help maintain interest. It's important to analyze what types of \"\n",
      " 'content resonate most with your audience through insights and analytics.\\n'\n",
      " '\\n'\n",
      " '   **Source**: Hootsuite, \"How to Create a Social Media Content Strategy\": '\n",
      " '[Hootsuite](https://blog.hootsuite.com/social-media-content-strategy/)\\n'\n",
      " '\\n'\n",
      " '3. **Analytics and Performance Tracking**: \\n'\n",
      " '   - Regularly monitoring performance metrics through Facebook Insights is '\n",
      " 'necessary to assess the effectiveness of your strategy. Key performance '\n",
      " 'indicators (KPIs) such as engagement rates, click-through rates, and '\n",
      " 'conversion rates provide insights into what works and what doesn’t. '\n",
      " 'Adjusting your strategy based on these metrics ensures continuous '\n",
      " 'improvement and alignment with business goals.\\n'\n",
      " '\\n'\n",
      " '   **Source**: Sprout Social, \"How to Use Facebook Insights\": [Sprout '\n",
      " 'Social](https://sproutsocial.com/insights/facebook-insights/)\\n'\n",
      " '\\n'\n",
      " 'By focusing on these three components—understanding your target audience, '\n",
      " 'developing a robust content strategy, and leveraging analytics—you can '\n",
      " 'create a strong social media marketing strategy for Facebook that drives '\n",
      " 'engagement and business results.')\n"
     ]
    }
   ],
   "source": [
    "# * Baseline\n",
    "result_baseline = model.invoke(\"What are the top 3 things needed in a good social media marketing strategy for Facebook (Meta)? Site any sources used.\")\n",
    "\n",
    "pprint(result_baseline.content)"
   ]
  },
  {
   "cell_type": "code",
   "execution_count": null,
   "id": "eaeef38c-bd53-4a67-82f8-b3545b90ca52",
   "metadata": {},
   "outputs": [
    {
     "name": "stdout",
     "output_type": "stream",
     "text": [
      "('Based on the provided context, the top three things needed in a good social '\n",
      " 'media marketing strategy for Facebook (Meta) include:\\n'\n",
      " '\\n'\n",
      " \"1. **Clear Objectives**: It's essential to have defined objectives such as \"\n",
      " 'lead generation, lead nurturing, and lead conversion. Every piece of content '\n",
      " 'should aim to achieve one or more of these objectives to avoid creating '\n",
      " 'content for the sake of content. (Source: Marley Jaxx)\\n'\n",
      " '\\n'\n",
      " '2. **Understanding Your Audience**: Identifying and clarifying who your '\n",
      " 'ideal customer is (often referred to as an ideal customer avatar) is '\n",
      " 'crucial. This involves understanding their demographics, geographic details, '\n",
      " 'and psychographics. By knowing your audience better than they know '\n",
      " 'themselves, you can tailor your marketing efforts effectively. (Source: Adam '\n",
      " 'Erhart)\\n'\n",
      " '\\n'\n",
      " '3. **Quality Content**: While quality content is important, the emphasis '\n",
      " 'should also be on frequency and consistency. Engaging with your audience and '\n",
      " 'producing content regularly can help improve visibility and connection. This '\n",
      " 'includes both short-form and long-form content that provides value to the '\n",
      " 'audience. (Source: Adam Erhart)\\n'\n",
      " '\\n'\n",
      " 'These points are drawn from the insights shared by Marley Jaxx and Adam '\n",
      " 'Erhart, emphasizing the importance of strategy, audience understanding, and '\n",
      " 'content quality in social media marketing.')\n"
     ]
    }
   ],
   "source": [
    "# * RAG\n",
    "result = rag_chain.invoke(\"What are the top 3 things needed in a good social media marketing strategy for Facebook (Meta)? Site any sources used.\")\n",
    "\n",
    "pprint(result)"
   ]
  }
 ],
 "metadata": {
  "language_info": {
   "codemirror_mode": {
    "name": "ipython",
    "version": 3
   },
   "file_extension": ".py",
   "mimetype": "text/x-python",
   "name": "python",
   "nbconvert_exporter": "python",
   "pygments_lexer": "ipython3",
   "version": 3
  }
 },
 "nbformat": 4,
 "nbformat_minor": 2
}
